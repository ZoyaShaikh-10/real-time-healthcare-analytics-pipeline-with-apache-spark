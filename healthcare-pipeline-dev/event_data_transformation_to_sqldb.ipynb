{
 "cells": [
  {
   "cell_type": "markdown",
   "metadata": {
    "application/vnd.databricks.v1+cell": {
     "cellMetadata": {
      "byteLimit": 2048000,
      "rowLimit": 10000
     },
     "inputWidgets": {},
     "nuid": "123d858d-bd61-49a5-93da-4e88944e9e16",
     "showTitle": false,
     "tableResultSettingsMap": {},
     "title": ""
    }
   },
   "source": [
    "### Creating a Spark Session"
   ]
  },
  {
   "cell_type": "code",
   "execution_count": 0,
   "metadata": {
    "application/vnd.databricks.v1+cell": {
     "cellMetadata": {
      "byteLimit": 2048000,
      "rowLimit": 10000
     },
     "inputWidgets": {},
     "nuid": "d1adabe9-8ea5-444c-810d-c211854d14f8",
     "showTitle": false,
     "tableResultSettingsMap": {},
     "title": ""
    }
   },
   "outputs": [],
   "source": [
    "from pyspark.sql import SparkSession\n",
    "from pyspark.sql.types import StringType\n",
    "from pyspark.sql.functions import col"
   ]
  },
  {
   "cell_type": "markdown",
   "metadata": {
    "application/vnd.databricks.v1+cell": {
     "cellMetadata": {
      "byteLimit": 2048000,
      "rowLimit": 10000
     },
     "inputWidgets": {},
     "nuid": "93b5504f-ca9a-4880-b1f4-47b0a9367d16",
     "showTitle": false,
     "tableResultSettingsMap": {},
     "title": ""
    }
   },
   "source": [
    "### Creating a Schema"
   ]
  },
  {
   "cell_type": "code",
   "execution_count": 0,
   "metadata": {
    "application/vnd.databricks.v1+cell": {
     "cellMetadata": {
      "byteLimit": 2048000,
      "rowLimit": 10000
     },
     "inputWidgets": {},
     "nuid": "07ff1106-104d-4002-913a-e7aa627dc433",
     "showTitle": false,
     "tableResultSettingsMap": {},
     "title": ""
    }
   },
   "outputs": [],
   "source": [
    "from pyspark.sql.types import StructType, StructField, StringType, ArrayType\n",
    "\n",
    "# Define the schema based on the JSON structure\n",
    "schema = StructType([\n",
    "    StructField(\"safetyreportid\", StringType(), True),\n",
    "    StructField(\"transmissiondateformat\", StringType(), True),\n",
    "    StructField(\"transmissiondate\", StringType(), True),\n",
    "    StructField(\"serious\", StringType(), True),\n",
    "    StructField(\"seriousnessdeath\", StringType(), True),\n",
    "    StructField(\"receivedateformat\", StringType(), True),\n",
    "    StructField(\"receivedate\", StringType(), True),\n",
    "    StructField(\"receiptdateformat\", StringType(), True),\n",
    "    StructField(\"receiptdate\", StringType(), True),\n",
    "    StructField(\"fulfillexpeditecriteria\", StringType(), True),\n",
    "    StructField(\"companynumb\", StringType(), True),\n",
    "    StructField(\"primarysource\", StructType([\n",
    "        StructField(\"reportercountry\", StringType(), True),\n",
    "        StructField(\"qualification\", StringType(), True)\n",
    "    ]), True),\n",
    "    StructField(\"sender\", StructType([\n",
    "        StructField(\"senderorganization\", StringType(), True)\n",
    "    ]), True),\n",
    "    StructField(\"receiver\", StringType(), True),\n",
    "    StructField(\"patient\", StructType([\n",
    "        StructField(\"patientonsetage\", StringType(), True),\n",
    "        StructField(\"patientonsetageunit\", StringType(), True),\n",
    "        StructField(\"patientsex\", StringType(), True),\n",
    "        StructField(\"patientdeath\", StructType([\n",
    "            StructField(\"patientdeathdateformat\", StringType(), True),\n",
    "            StructField(\"patientdeathdate\", StringType(), True)\n",
    "        ]), True),\n",
    "        StructField(\"reaction\", ArrayType(StructType([\n",
    "            StructField(\"reactionmeddrapt\", StringType(), True)\n",
    "        ])), True),\n",
    "        StructField(\"drug\", ArrayType(StructType([\n",
    "            StructField(\"drugcharacterization\", StringType(), True),\n",
    "            StructField(\"medicinalproduct\", StringType(), True),\n",
    "            StructField(\"drugauthorizationnumb\", StringType(), True),\n",
    "            StructField(\"drugadministrationroute\", StringType(), True),\n",
    "            StructField(\"drugindication\", StringType(), True)\n",
    "        ])), True)\n",
    "    ]), True)\n",
    "])\n"
   ]
  },
  {
   "cell_type": "markdown",
   "metadata": {
    "application/vnd.databricks.v1+cell": {
     "cellMetadata": {
      "byteLimit": 2048000,
      "rowLimit": 10000
     },
     "inputWidgets": {},
     "nuid": "37c22f7a-69a7-41db-bef0-a59c513a4e66",
     "showTitle": false,
     "tableResultSettingsMap": {},
     "title": ""
    }
   },
   "source": [
    "### Setting up event hub configuration and loading the data"
   ]
  },
  {
   "cell_type": "code",
   "execution_count": 0,
   "metadata": {
    "application/vnd.databricks.v1+cell": {
     "cellMetadata": {
      "byteLimit": 2048000,
      "rowLimit": 10000
     },
     "inputWidgets": {},
     "nuid": "7bc74a05-e101-4bfc-b90d-7ed218d4c816",
     "showTitle": false,
     "tableResultSettingsMap": {},
     "title": ""
    }
   },
   "outputs": [
    {
     "output_type": "stream",
     "name": "stdout",
     "output_type": "stream",
     "text": [
      "+--------------+----------------+---------------+---------------------------------------------------+\n|safetyreportid|transmissiondate|patientonsetage|reaction                                           |\n+--------------+----------------+---------------+---------------------------------------------------+\n|5801206-7     |20090109        |26             |[{DRUG ADMINISTRATION ERROR}, {OVERDOSE}]          |\n|10003300      |20141002        |77             |[{Vomiting}, {Diarrhoea}, {Arthralgia}, {Headache}]|\n|10003301      |20141002        |NULL           |[{Dyspepsia}, {Renal impairment}]                  |\n|10003302      |20141002        |NULL           |[{Drug ineffective}]                               |\n|10003304      |20141212        |NULL           |[{Drug hypersensitivity}]                          |\n+--------------+----------------+---------------+---------------------------------------------------+\n\n"
     ]
    }
   ],
   "source": [
    "\n",
    "\n",
    "import json\n",
    "from pyspark.sql import functions as F\n",
    "eventHubConf = {}\n",
    "pos = {\n",
    "    \"offset\": -1,\n",
    "    \"seqNo\": -1,\n",
    "    \"enqueuedTime\": None,\n",
    "    \"isInclusive\": True\n",
    "    }\n",
    "    \n",
    "connstring = \"<EVENT_HUB_CONNECTION_STRING\"\n",
    "eventHubConf['eventhubs.connectionString'] = sc._jvm.org.apache.spark.eventhubs.EventHubsUtils.encrypt(connstring)\n",
    "\n",
    "from pyspark.sql.functions import col, from_json\n",
    "\n",
    "# Step 1: Read the data from Event Hub (stream or batch)\n",
    "# Use the 'earliest' option to get the oldest data in batch mode\n",
    "df = spark.read.format(\"eventhubs\") \\\n",
    "    .options(**eventHubConf) \\\n",
    "    .option(\"eventhubs.startingPosition\", json.dumps(pos)) \\\n",
    "    .load()\n",
    "\n",
    "# Step 2: Decode the body field from binary to string\n",
    "df_decoded = df.withColumn(\"decoded_body\", F.col(\"body\").cast(\"string\"))\n",
    "\n",
    "\n",
    "# Step 3: Parse the JSON content using the schema\n",
    "df_with_json = df_decoded.withColumn(\"parsed_body\", F.from_json(F.col(\"decoded_body\"), schema))\n",
    "\n",
    "df_with_json.select(\n",
    "    \"parsed_body.safetyreportid\",\n",
    "    \"parsed_body.transmissiondate\",\n",
    "    \"parsed_body.patient.patientonsetage\",\n",
    "    \"parsed_body.patient.reaction\"\n",
    ").show(truncate=False)\n",
    "\n",
    "# Step 4: Select the parsed JSON and show the results\n",
    "#f_with_json.select(\"parsed_body\").show(truncate=False)"
   ]
  },
  {
   "cell_type": "markdown",
   "metadata": {
    "application/vnd.databricks.v1+cell": {
     "cellMetadata": {
      "byteLimit": 2048000,
      "rowLimit": 10000
     },
     "inputWidgets": {},
     "nuid": "d39e8a0e-9d6e-49c9-8afd-addb1e05b7a6",
     "showTitle": false,
     "tableResultSettingsMap": {},
     "title": ""
    }
   },
   "source": [
    "### Performing some transformations and returning the following data\n",
    "- safetyreportid: The ID of the safety report.\n",
    "- transmissiondate_converted: The transmissiondate in a proper date format.\n",
    "- patientonsetage: The age of the patient at the onset of symptoms.\n",
    "- reaction.reactionmeddrapt: The type of reaction.\n",
    "- is_overdose: A flag indicating whether the reaction was an overdose (\"Yes\" or \"No\").\n",
    "- drug_name: The name of the drug administered.\n",
    "- drug_characterization: The characterization of the drug (e.g., whether it's a primary or secondary drug).                                                       \n",
    "- drug_indication: The indication for the drug (e.g., condition it was prescribed for)"
   ]
  },
  {
   "cell_type": "code",
   "execution_count": 0,
   "metadata": {
    "application/vnd.databricks.v1+cell": {
     "cellMetadata": {
      "byteLimit": 2048000,
      "rowLimit": 10000
     },
     "inputWidgets": {},
     "nuid": "a706c25d-ea28-486b-958a-32262a0afb78",
     "showTitle": false,
     "tableResultSettingsMap": {},
     "title": ""
    }
   },
   "outputs": [
    {
     "output_type": "stream",
     "name": "stdout",
     "output_type": "stream",
     "text": [
      "+--------------+--------------------------+---------------+----------+-------------------------+-------------+---------------------+-----------------------------------+-----------+\n|safetyreportid|transmissiondate_converted|patientonsetage|patientsex|reactionmeddrapt         |drug_name    |drug_characterization|drug_indication                    |is_overdose|\n+--------------+--------------------------+---------------+----------+-------------------------+-------------+---------------------+-----------------------------------+-----------+\n|5801206-7     |2009-01-09                |26             |1         |DRUG ADMINISTRATION ERROR|DURAGESIC-100|1                    |DRUG ABUSE                         |No         |\n|5801206-7     |2009-01-09                |26             |1         |OVERDOSE                 |DURAGESIC-100|1                    |DRUG ABUSE                         |Yes        |\n|10003300      |2014-10-02                |77             |2         |Vomiting                 |BONIVA       |1                    |OSTEOPOROSIS                       |No         |\n|10003300      |2014-10-02                |77             |2         |Diarrhoea                |BONIVA       |1                    |OSTEOPOROSIS                       |No         |\n|10003300      |2014-10-02                |77             |2         |Arthralgia               |BONIVA       |1                    |OSTEOPOROSIS                       |No         |\n|10003300      |2014-10-02                |77             |2         |Headache                 |BONIVA       |1                    |OSTEOPOROSIS                       |No         |\n|10003301      |2014-10-02                |NULL           |2         |Dyspepsia                |IBUPROFEN    |1                    |PRODUCT USED FOR UNKNOWN INDICATION|No         |\n|10003301      |2014-10-02                |NULL           |2         |Renal impairment         |IBUPROFEN    |1                    |PRODUCT USED FOR UNKNOWN INDICATION|No         |\n+--------------+--------------------------+---------------+----------+-------------------------+-------------+---------------------+-----------------------------------+-----------+\n\n"
     ]
    }
   ],
   "source": [
    "from pyspark.sql.functions import col, explode, to_date, when\n",
    "from pyspark.sql.types import StringType\n",
    "\n",
    "# Step 3: Extract the necessary fields (including reaction and drug information)\n",
    "df_transformed = df_with_json.select(\n",
    "    \"parsed_body.safetyreportid\",\n",
    "    \"parsed_body.transmissiondate\",\n",
    "    \"parsed_body.serious\",\n",
    "    \"parsed_body.patient.patientonsetage\",\n",
    "    \"parsed_body.patient.patientsex\",\n",
    "    \"parsed_body.patient.reaction\",\n",
    "    \"parsed_body.patient.drug\",  # Added drug information\n",
    "    \"parsed_body.receivedate\"\n",
    ")\n",
    "\n",
    "# Step 4: Flatten the 'reaction' and 'drug' arrays\n",
    "df_flat_reaction = df_transformed.withColumn(\"reaction\", explode(col(\"reaction\")))\n",
    "df_flat_drug = df_flat_reaction.withColumn(\"drug\", explode(col(\"drug\")))\n",
    "\n",
    "# Step 5: Filter for serious cases only\n",
    "df_serious_cases = df_flat_drug.filter(col(\"serious\") == \"1\")\n",
    "\n",
    "# Step 6: Convert 'transmissiondate' to date format\n",
    "df_final = df_serious_cases.withColumn(\n",
    "    \"transmissiondate_converted\", to_date(col(\"transmissiondate\"), \"yyyyMMdd\")\n",
    ")\n",
    "\n",
    "# Step 7: Add column to indicate if the reaction was an overdose\n",
    "df_final = df_final.withColumn(\n",
    "    \"is_overdose\", when(col(\"reaction.reactionmeddrapt\") == \"OVERDOSE\", \"Yes\").otherwise(\"No\")\n",
    ")\n",
    "\n",
    "# Step 8: Extract drug details (medicinalproduct, drugcharacterization, and drugindication)\n",
    "df_final = df_final.withColumn(\n",
    "    \"drug_name\", col(\"drug.medicinalproduct\")\n",
    ").withColumn(\n",
    "    \"drug_characterization\", col(\"drug.drugcharacterization\")\n",
    ").withColumn(\n",
    "    \"drug_indication\", col(\"drug.drugindication\")\n",
    ")\n",
    "\n",
    "# Step 9: Finalize the DataFrame with the required columns\n",
    "df_final = df_final.select(\n",
    "    \"safetyreportid\",\n",
    "    \"transmissiondate_converted\",\n",
    "    \"patientonsetage\",\n",
    "    \"patientsex\",\n",
    "    \"reaction.reactionmeddrapt\",\n",
    "    \"drug_name\",\n",
    "    \"drug_characterization\",\n",
    "    \"drug_indication\",\n",
    "    \"is_overdose\"\n",
    ")\n",
    "\n",
    "# Step 9: Show the transformed data (this step can be modified as needed)\n",
    "df_final.show(truncate=False)"
   ]
  },
  {
   "cell_type": "markdown",
   "metadata": {
    "application/vnd.databricks.v1+cell": {
     "cellMetadata": {
      "byteLimit": 2048000,
      "rowLimit": 10000
     },
     "inputWidgets": {},
     "nuid": "ebca567a-9328-48da-85cc-9b3fae2f907c",
     "showTitle": false,
     "tableResultSettingsMap": {},
     "title": ""
    }
   },
   "source": [
    "### Uploading data to the SQL Database"
   ]
  },
  {
   "cell_type": "code",
   "execution_count": 0,
   "metadata": {
    "application/vnd.databricks.v1+cell": {
     "cellMetadata": {
      "byteLimit": 2048000,
      "rowLimit": 10000
     },
     "inputWidgets": {},
     "nuid": "1c396b5d-6f87-469e-ba06-84ebf5a1434d",
     "showTitle": false,
     "tableResultSettingsMap": {},
     "title": ""
    }
   },
   "outputs": [],
   "source": [
    "## upload the data to the sql db\n",
    "\n",
    "# Define the connection properties for Azure SQL Database\n",
    "jdbc_url = \"jdbc:sqlserver://az-dev-server.database.windows.net:1433;database=az-dev-hub\"\n",
    "connection_properties = {\n",
    "    \"user\": \"USERNAME\",\n",
    "    \"password\": \"PASSWORD\",\n",
    "    \"driver\": \"com.microsoft.sqlserver.jdbc.SQLServerDriver\"\n",
    "}\n",
    "\n",
    "# Specify the table where data will be saved\n",
    "target_table = \"PatientAdverseEventReport\"\n",
    "\n",
    "# Save the transformed DataFrame to the Azure SQL Database\n",
    "df_final.write.jdbc(url=jdbc_url, table=target_table, mode=\"overwrite\", properties=connection_properties)\n"
   ]
  }
 ],
 "metadata": {
  "application/vnd.databricks.v1+notebook": {
   "computePreferences": null,
   "dashboards": [],
   "environmentMetadata": {
    "base_environment": "",
    "client": "1"
   },
   "language": "python",
   "notebookMetadata": {
    "pythonIndentUnit": 4
   },
   "notebookName": "event_data_transformation_to_sql.ipynb",
   "widgets": {}
  },
  "language_info": {
   "name": "python"
  }
 },
 "nbformat": 4,
 "nbformat_minor": 0
}